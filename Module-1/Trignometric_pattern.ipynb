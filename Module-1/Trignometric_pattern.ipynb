{
 "cells": [
  {
   "cell_type": "code",
   "execution_count": 1,
   "id": "3a969ae1-4335-4c4d-be15-055e7a462112",
   "metadata": {},
   "outputs": [],
   "source": [
    "import math"
   ]
  },
  {
   "cell_type": "code",
   "execution_count": 25,
   "id": "a13f4d25-969f-444d-bfef-803b66f854e0",
   "metadata": {},
   "outputs": [],
   "source": [
    "def trigonometric_pattern(x, n):\n",
    "    \"\"\"To print a pattern\"\"\"\n",
    "    c=round(math.cos(x))\n",
    "    s=round(math.sin(x))\n",
    "    for i in range(1,n+1):\n",
    "        k=i*math.pow(c,i)+i*math.pow(s,i)\n",
    "        k1=int(k)\n",
    "        if k1<1:\n",
    "            print(\"$\")\n",
    "        elif k1>=1:\n",
    "            print('$'*k1)\n",
    "       "
   ]
  },
  {
   "cell_type": "code",
   "execution_count": 26,
   "id": "04fd6faa-10c6-4992-8bd8-05fd0fa7f53b",
   "metadata": {},
   "outputs": [
    {
     "name": "stdout",
     "output_type": "stream",
     "text": [
      "$\n",
      "$$\n",
      "$$$\n",
      "$$$$\n",
      "$$$$$\n"
     ]
    }
   ],
   "source": [
    "trigonometric_pattern(0,5)"
   ]
  },
  {
   "cell_type": "code",
   "execution_count": null,
   "id": "78006819-cda4-40f8-adc2-04547e5049ed",
   "metadata": {},
   "outputs": [],
   "source": []
  },
  {
   "cell_type": "code",
   "execution_count": null,
   "id": "080c78d6-ea8b-436e-a817-6f433f4dd5c7",
   "metadata": {},
   "outputs": [],
   "source": []
  }
 ],
 "metadata": {
  "kernelspec": {
   "display_name": "Python 3",
   "language": "python",
   "name": "python3"
  },
  "language_info": {
   "codemirror_mode": {
    "name": "ipython",
    "version": 3
   },
   "file_extension": ".py",
   "mimetype": "text/x-python",
   "name": "python",
   "nbconvert_exporter": "python",
   "pygments_lexer": "ipython3",
   "version": "3.8.8"
  }
 },
 "nbformat": 4,
 "nbformat_minor": 5
}
