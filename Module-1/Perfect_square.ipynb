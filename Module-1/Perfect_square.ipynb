{
 "cells": [
  {
   "cell_type": "code",
   "execution_count": 1,
   "id": "8c3aff2b-d5ff-422a-b202-33d87f453384",
   "metadata": {},
   "outputs": [],
   "source": [
    "import math"
   ]
  },
  {
   "cell_type": "code",
   "execution_count": 15,
   "id": "ac5ca77d-e8cb-4e00-9484-f9d631ea2df4",
   "metadata": {},
   "outputs": [],
   "source": [
    "def perfect_squares(n):\n",
    "    sqr_list=[]\n",
    "    for i in range(1,n):\n",
    "        sqr=math.pow(i,2)\n",
    "        if int(sqr)/i==i:\n",
    "            sqr_list.append(int(sqr))\n",
    "        else:\n",
    "            continue\n",
    "    return sqr_list      "
   ]
  },
  {
   "cell_type": "code",
   "execution_count": 16,
   "id": "feb83dbe-d924-46c6-a9b1-a6541a3c3936",
   "metadata": {},
   "outputs": [
    {
     "data": {
      "text/plain": [
       "[1, 4, 9, 16, 25, 36, 49, 64, 81]"
      ]
     },
     "execution_count": 16,
     "metadata": {},
     "output_type": "execute_result"
    }
   ],
   "source": [
    "perfect_squares(10)"
   ]
  },
  {
   "cell_type": "code",
   "execution_count": null,
   "id": "6e1bdb6a-1072-4e1a-b18c-8287f47d7cb9",
   "metadata": {},
   "outputs": [],
   "source": []
  }
 ],
 "metadata": {
  "kernelspec": {
   "display_name": "Python 3",
   "language": "python",
   "name": "python3"
  },
  "language_info": {
   "codemirror_mode": {
    "name": "ipython",
    "version": 3
   },
   "file_extension": ".py",
   "mimetype": "text/x-python",
   "name": "python",
   "nbconvert_exporter": "python",
   "pygments_lexer": "ipython3",
   "version": "3.8.8"
  }
 },
 "nbformat": 4,
 "nbformat_minor": 5
}
