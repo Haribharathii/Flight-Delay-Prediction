{
 "cells": [
  {
   "cell_type": "code",
   "execution_count": 24,
   "id": "f1824bba-bcb2-4cb5-b9dd-75c0c43b556b",
   "metadata": {},
   "outputs": [],
   "source": [
    "def number_pattern(n):\n",
    "    \"\"\"Print number pattern\"\"\"\n",
    "    for line in range(0,n):\n",
    "        for num in range(1,line+1):\n",
    "            print(num,end=' ')\n",
    "        print('\\n')    "
   ]
  },
  {
   "cell_type": "code",
   "execution_count": 25,
   "id": "e17b22aa-64dd-4c5c-aed4-3c89237e62a2",
   "metadata": {},
   "outputs": [
    {
     "name": "stdout",
     "output_type": "stream",
     "text": [
      "\n",
      "\n",
      "1 \n",
      "\n",
      "1 2 \n",
      "\n",
      "1 2 3 \n",
      "\n",
      "1 2 3 4 \n",
      "\n",
      "1 2 3 4 5 \n",
      "\n",
      "1 2 3 4 5 6 \n",
      "\n"
     ]
    }
   ],
   "source": [
    "number_pattern(7)"
   ]
  },
  {
   "cell_type": "code",
   "execution_count": null,
   "id": "8325b4b8-9257-49b9-b008-d71db527d0ee",
   "metadata": {},
   "outputs": [],
   "source": []
  }
 ],
 "metadata": {
  "kernelspec": {
   "display_name": "Python 3",
   "language": "python",
   "name": "python3"
  },
  "language_info": {
   "codemirror_mode": {
    "name": "ipython",
    "version": 3
   },
   "file_extension": ".py",
   "mimetype": "text/x-python",
   "name": "python",
   "nbconvert_exporter": "python",
   "pygments_lexer": "ipython3",
   "version": "3.8.8"
  }
 },
 "nbformat": 4,
 "nbformat_minor": 5
}
