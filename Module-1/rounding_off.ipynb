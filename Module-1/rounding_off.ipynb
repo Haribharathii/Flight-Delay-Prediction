{
 "cells": [
  {
   "cell_type": "code",
   "execution_count": 10,
   "id": "82223eaa-b7eb-4ac2-a4b6-e4926acc2ec2",
   "metadata": {},
   "outputs": [],
   "source": [
    "import statistics as st"
   ]
  },
  {
   "cell_type": "code",
   "execution_count": 11,
   "id": "d3b0ef76-9e31-4d9a-8807-5fa5817a12a1",
   "metadata": {},
   "outputs": [],
   "source": [
    "data = [0.00, 0.12, 0.24, 0.36, 0.48, 0.52, 0.65, 0.50, 0.11, 0.09]"
   ]
  },
  {
   "cell_type": "code",
   "execution_count": 24,
   "id": "6df5b318-c887-41c3-8eae-c2d3845214fd",
   "metadata": {},
   "outputs": [],
   "source": [
    "def round_off(data):\n",
    "    mean1=st.mean(data)\n",
    "    data1=[]\n",
    "    for num in data:\n",
    "        \n",
    "        if num>mean1:\n",
    "            num=1\n",
    "            data1.append(num)\n",
    "        elif num<mean1:\n",
    "            num=0\n",
    "            data1.append(num)\n",
    "    return data1        "
   ]
  },
  {
   "cell_type": "code",
   "execution_count": 25,
   "id": "796a6b6f-def0-49d4-99c8-e14756ed0ab3",
   "metadata": {},
   "outputs": [
    {
     "data": {
      "text/plain": [
       "[0, 0, 0, 1, 1, 1, 1, 1, 0, 0]"
      ]
     },
     "execution_count": 25,
     "metadata": {},
     "output_type": "execute_result"
    }
   ],
   "source": [
    "round_off(data)"
   ]
  },
  {
   "cell_type": "code",
   "execution_count": null,
   "id": "c4d15d4e-6f55-4382-86df-05086c25e72f",
   "metadata": {},
   "outputs": [],
   "source": []
  }
 ],
 "metadata": {
  "kernelspec": {
   "display_name": "Python 3",
   "language": "python",
   "name": "python3"
  },
  "language_info": {
   "codemirror_mode": {
    "name": "ipython",
    "version": 3
   },
   "file_extension": ".py",
   "mimetype": "text/x-python",
   "name": "python",
   "nbconvert_exporter": "python",
   "pygments_lexer": "ipython3",
   "version": "3.8.8"
  }
 },
 "nbformat": 4,
 "nbformat_minor": 5
}
