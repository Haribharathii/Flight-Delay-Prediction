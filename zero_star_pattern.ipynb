{
 "cells": [
  {
   "cell_type": "code",
   "execution_count": 34,
   "id": "a1cdcaab-f679-4e6b-b6d2-19d21c59fcdd",
   "metadata": {},
   "outputs": [],
   "source": [
    "def zero_star_pattern(n):\n",
    "    \"\"\"To print a zero star pattern\"\"\"\n",
    "    for k in range(0,n):  \n",
    "        for i in range(0,6):\n",
    "            for j in range(1,i+1):\n",
    "                if i%2!=0:\n",
    "                    char='*'*i\n",
    "                    print(char ,end='')\n",
    "                    print('\\r') \n",
    "                    break\n",
    "                elif i%2==0:\n",
    "                    char='0'*i\n",
    "                    print(char ,end='')\n",
    "                    print('\\r') \n",
    "                    break\n",
    "\n",
    "        for i in range(4,0,-1):\n",
    "            if i%2!=0:\n",
    "                char='*'*i\n",
    "                print(char ,end='')\n",
    "                print('\\r') \n",
    "                continue\n",
    "            elif i%2==0:\n",
    "                char='0'*i\n",
    "                print(char ,end='')\n",
    "                print('\\r') \n",
    "                continue"
   ]
  },
  {
   "cell_type": "code",
   "execution_count": 33,
   "id": "b7bcaafe-b63f-4e66-9dfa-7b5ae86e4391",
   "metadata": {},
   "outputs": [
    {
     "name": "stdout",
     "output_type": "stream",
     "text": [
      "*\n",
      "00\n",
      "***\n",
      "0000\n",
      "*****\n",
      "0000\n",
      "***\n",
      "00\n",
      "*\n",
      "*\n",
      "00\n",
      "***\n",
      "0000\n",
      "*****\n",
      "0000\n",
      "***\n",
      "00\n",
      "*\n"
     ]
    }
   ],
   "source": [
    "zero_star_pattern(2)"
   ]
  },
  {
   "cell_type": "code",
   "execution_count": null,
   "id": "93261487-2055-4c3c-84fa-23b2b8ed9d42",
   "metadata": {},
   "outputs": [],
   "source": []
  }
 ],
 "metadata": {
  "kernelspec": {
   "display_name": "Python 3",
   "language": "python",
   "name": "python3"
  },
  "language_info": {
   "codemirror_mode": {
    "name": "ipython",
    "version": 3
   },
   "file_extension": ".py",
   "mimetype": "text/x-python",
   "name": "python",
   "nbconvert_exporter": "python",
   "pygments_lexer": "ipython3",
   "version": "3.8.8"
  }
 },
 "nbformat": 4,
 "nbformat_minor": 5
}
