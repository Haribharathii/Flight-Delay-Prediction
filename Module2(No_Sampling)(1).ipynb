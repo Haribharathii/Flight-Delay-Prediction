{
  "nbformat": 4,
  "nbformat_minor": 0,
  "metadata": {
    "colab": {
      "name": "Module2(No Sampling).ipynb",
      "provenance": []
    },
    "kernelspec": {
      "name": "python3",
      "display_name": "Python 3"
    },
    "language_info": {
      "name": "python"
    }
  },
  "cells": [
    {
      "cell_type": "code",
      "execution_count": null,
      "metadata": {
        "id": "Br1LAoqGFikM"
      },
      "outputs": [],
      "source": [
        "import pandas as pd\n",
        "from sklearn.tree import DecisionTreeClassifier \n",
        "from sklearn.model_selection import train_test_split\n",
        "from sklearn.metrics import accuracy_score\n",
        "from sklearn.linear_model import LogisticRegression\n",
        "from xgboost import XGBClassifier\n",
        "from sklearn.ensemble import RandomForestClassifier"
      ]
    },
    {
      "cell_type": "code",
      "source": [
        "file1=open('/content/drive/MyDrive/finalmerge.csv')"
      ],
      "metadata": {
        "id": "uJuTmJJdFuu8"
      },
      "execution_count": 2,
      "outputs": []
    },
    {
      "cell_type": "code",
      "source": [
        "df=pd.read_csv(file1)"
      ],
      "metadata": {
        "id": "GzttMfMeF-jW"
      },
      "execution_count": 3,
      "outputs": []
    },
    {
      "cell_type": "code",
      "source": [
        "\n",
        "df.shape"
      ],
      "metadata": {
        "colab": {
          "base_uri": "https://localhost:8080/"
        },
        "id": "mJKjQQWtGCZc",
        "outputId": "9ed23ec8-26b2-4842-95f9-f23284d4a5bd"
      },
      "execution_count": 42,
      "outputs": [
        {
          "output_type": "execute_result",
          "data": {
            "text/plain": [
              "(1815405, 51)"
            ]
          },
          "metadata": {},
          "execution_count": 42
        }
      ]
    },
    {
      "cell_type": "code",
      "source": [
        "df"
      ],
      "metadata": {
        "colab": {
          "base_uri": "https://localhost:8080/",
          "height": 505
        },
        "id": "A0L7qAn-GGKd",
        "outputId": "7397fc60-e11e-40df-c5cf-56b4f67c7ead"
      },
      "execution_count": 43,
      "outputs": [
        {
          "output_type": "execute_result",
          "data": {
            "text/html": [
              "\n",
              "  <div id=\"df-975aa619-949a-47c0-92f7-0a0bacc6b491\">\n",
              "    <div class=\"colab-df-container\">\n",
              "      <div>\n",
              "<style scoped>\n",
              "    .dataframe tbody tr th:only-of-type {\n",
              "        vertical-align: middle;\n",
              "    }\n",
              "\n",
              "    .dataframe tbody tr th {\n",
              "        vertical-align: top;\n",
              "    }\n",
              "\n",
              "    .dataframe thead th {\n",
              "        text-align: right;\n",
              "    }\n",
              "</style>\n",
              "<table border=\"1\" class=\"dataframe\">\n",
              "  <thead>\n",
              "    <tr style=\"text-align: right;\">\n",
              "      <th></th>\n",
              "      <th>Unnamed: 0</th>\n",
              "      <th>Unnamed: 0_x</th>\n",
              "      <th>FlightDate</th>\n",
              "      <th>Quarter</th>\n",
              "      <th>Year</th>\n",
              "      <th>Month</th>\n",
              "      <th>DayofMonth</th>\n",
              "      <th>DepTime</th>\n",
              "      <th>DepDel15</th>\n",
              "      <th>CRSDepTime</th>\n",
              "      <th>DepDelayMinutes</th>\n",
              "      <th>OriginAirportID</th>\n",
              "      <th>DestAirportID</th>\n",
              "      <th>ArrTime</th>\n",
              "      <th>CRSArrTime</th>\n",
              "      <th>ArrDel15</th>\n",
              "      <th>ArrDelayMinutes</th>\n",
              "      <th>Origin</th>\n",
              "      <th>Dest</th>\n",
              "      <th>Unnamed: 0_y</th>\n",
              "      <th>airport_x</th>\n",
              "      <th>date_x</th>\n",
              "      <th>windspeedKmph_x</th>\n",
              "      <th>winddirDegree_x</th>\n",
              "      <th>weatherCode_x</th>\n",
              "      <th>precipMM_x</th>\n",
              "      <th>visibility_x</th>\n",
              "      <th>pressure_x</th>\n",
              "      <th>cloudcover_x</th>\n",
              "      <th>DewPointF_x</th>\n",
              "      <th>WindGustKmph_x</th>\n",
              "      <th>tempF_x</th>\n",
              "      <th>WindChillF_x</th>\n",
              "      <th>humidity_x</th>\n",
              "      <th>time_x</th>\n",
              "      <th>Unnamed: 0.1</th>\n",
              "      <th>airport_y</th>\n",
              "      <th>date_y</th>\n",
              "      <th>windspeedKmph_y</th>\n",
              "      <th>winddirDegree_y</th>\n",
              "      <th>weatherCode_y</th>\n",
              "      <th>precipMM_y</th>\n",
              "      <th>visibility_y</th>\n",
              "      <th>pressure_y</th>\n",
              "      <th>cloudcover_y</th>\n",
              "      <th>DewPointF_y</th>\n",
              "      <th>WindGustKmph_y</th>\n",
              "      <th>tempF_y</th>\n",
              "      <th>WindChillF_y</th>\n",
              "      <th>humidity_y</th>\n",
              "      <th>time_y</th>\n",
              "    </tr>\n",
              "  </thead>\n",
              "  <tbody>\n",
              "    <tr>\n",
              "      <th>0</th>\n",
              "      <td>0</td>\n",
              "      <td>57</td>\n",
              "      <td>2016-01-01</td>\n",
              "      <td>1</td>\n",
              "      <td>2016</td>\n",
              "      <td>1</td>\n",
              "      <td>1</td>\n",
              "      <td>741.0</td>\n",
              "      <td>0.0</td>\n",
              "      <td>700</td>\n",
              "      <td>0.0</td>\n",
              "      <td>14747</td>\n",
              "      <td>12478</td>\n",
              "      <td>1610.0</td>\n",
              "      <td>1600</td>\n",
              "      <td>0.0</td>\n",
              "      <td>8.0</td>\n",
              "      <td>SEA</td>\n",
              "      <td>JFK</td>\n",
              "      <td>16</td>\n",
              "      <td>JFK</td>\n",
              "      <td>2016-01-01</td>\n",
              "      <td>22</td>\n",
              "      <td>255</td>\n",
              "      <td>113</td>\n",
              "      <td>0.0</td>\n",
              "      <td>10</td>\n",
              "      <td>1015</td>\n",
              "      <td>0</td>\n",
              "      <td>32</td>\n",
              "      <td>26</td>\n",
              "      <td>41</td>\n",
              "      <td>32</td>\n",
              "      <td>74</td>\n",
              "      <td>1600</td>\n",
              "      <td>7</td>\n",
              "      <td>SEA</td>\n",
              "      <td>2016-01-01</td>\n",
              "      <td>7</td>\n",
              "      <td>107</td>\n",
              "      <td>113</td>\n",
              "      <td>0.0</td>\n",
              "      <td>10</td>\n",
              "      <td>1030</td>\n",
              "      <td>0</td>\n",
              "      <td>23</td>\n",
              "      <td>8</td>\n",
              "      <td>34</td>\n",
              "      <td>29</td>\n",
              "      <td>66</td>\n",
              "      <td>700</td>\n",
              "    </tr>\n",
              "    <tr>\n",
              "      <th>1</th>\n",
              "      <td>1</td>\n",
              "      <td>219870</td>\n",
              "      <td>2016-01-01</td>\n",
              "      <td>1</td>\n",
              "      <td>2016</td>\n",
              "      <td>1</td>\n",
              "      <td>1</td>\n",
              "      <td>705.0</td>\n",
              "      <td>0.0</td>\n",
              "      <td>700</td>\n",
              "      <td>0.0</td>\n",
              "      <td>14747</td>\n",
              "      <td>12892</td>\n",
              "      <td>934.0</td>\n",
              "      <td>900</td>\n",
              "      <td>0.0</td>\n",
              "      <td>0.0</td>\n",
              "      <td>SEA</td>\n",
              "      <td>LAX</td>\n",
              "      <td>9</td>\n",
              "      <td>LAX</td>\n",
              "      <td>2016-01-01</td>\n",
              "      <td>12</td>\n",
              "      <td>31</td>\n",
              "      <td>113</td>\n",
              "      <td>0.0</td>\n",
              "      <td>10</td>\n",
              "      <td>1020</td>\n",
              "      <td>2</td>\n",
              "      <td>30</td>\n",
              "      <td>15</td>\n",
              "      <td>51</td>\n",
              "      <td>47</td>\n",
              "      <td>46</td>\n",
              "      <td>900</td>\n",
              "      <td>7</td>\n",
              "      <td>SEA</td>\n",
              "      <td>2016-01-01</td>\n",
              "      <td>7</td>\n",
              "      <td>107</td>\n",
              "      <td>113</td>\n",
              "      <td>0.0</td>\n",
              "      <td>10</td>\n",
              "      <td>1030</td>\n",
              "      <td>0</td>\n",
              "      <td>23</td>\n",
              "      <td>8</td>\n",
              "      <td>34</td>\n",
              "      <td>29</td>\n",
              "      <td>66</td>\n",
              "      <td>700</td>\n",
              "    </tr>\n",
              "    <tr>\n",
              "      <th>2</th>\n",
              "      <td>2</td>\n",
              "      <td>356730</td>\n",
              "      <td>2016-01-01</td>\n",
              "      <td>1</td>\n",
              "      <td>2016</td>\n",
              "      <td>1</td>\n",
              "      <td>1</td>\n",
              "      <td>658.0</td>\n",
              "      <td>0.0</td>\n",
              "      <td>700</td>\n",
              "      <td>3.0</td>\n",
              "      <td>14747</td>\n",
              "      <td>12892</td>\n",
              "      <td>933.0</td>\n",
              "      <td>900</td>\n",
              "      <td>0.0</td>\n",
              "      <td>0.0</td>\n",
              "      <td>SEA</td>\n",
              "      <td>LAX</td>\n",
              "      <td>9</td>\n",
              "      <td>LAX</td>\n",
              "      <td>2016-01-01</td>\n",
              "      <td>12</td>\n",
              "      <td>31</td>\n",
              "      <td>113</td>\n",
              "      <td>0.0</td>\n",
              "      <td>10</td>\n",
              "      <td>1020</td>\n",
              "      <td>2</td>\n",
              "      <td>30</td>\n",
              "      <td>15</td>\n",
              "      <td>51</td>\n",
              "      <td>47</td>\n",
              "      <td>46</td>\n",
              "      <td>900</td>\n",
              "      <td>7</td>\n",
              "      <td>SEA</td>\n",
              "      <td>2016-01-01</td>\n",
              "      <td>7</td>\n",
              "      <td>107</td>\n",
              "      <td>113</td>\n",
              "      <td>0.0</td>\n",
              "      <td>10</td>\n",
              "      <td>1030</td>\n",
              "      <td>0</td>\n",
              "      <td>23</td>\n",
              "      <td>8</td>\n",
              "      <td>34</td>\n",
              "      <td>29</td>\n",
              "      <td>66</td>\n",
              "      <td>700</td>\n",
              "    </tr>\n",
              "    <tr>\n",
              "      <th>3</th>\n",
              "      <td>3</td>\n",
              "      <td>334974</td>\n",
              "      <td>2016-01-01</td>\n",
              "      <td>1</td>\n",
              "      <td>2016</td>\n",
              "      <td>1</td>\n",
              "      <td>1</td>\n",
              "      <td>723.0</td>\n",
              "      <td>0.0</td>\n",
              "      <td>700</td>\n",
              "      <td>6.0</td>\n",
              "      <td>14747</td>\n",
              "      <td>12478</td>\n",
              "      <td>1534.0</td>\n",
              "      <td>1500</td>\n",
              "      <td>0.0</td>\n",
              "      <td>4.0</td>\n",
              "      <td>SEA</td>\n",
              "      <td>JFK</td>\n",
              "      <td>15</td>\n",
              "      <td>JFK</td>\n",
              "      <td>2016-01-01</td>\n",
              "      <td>21</td>\n",
              "      <td>254</td>\n",
              "      <td>113</td>\n",
              "      <td>0.0</td>\n",
              "      <td>10</td>\n",
              "      <td>1016</td>\n",
              "      <td>0</td>\n",
              "      <td>33</td>\n",
              "      <td>24</td>\n",
              "      <td>42</td>\n",
              "      <td>33</td>\n",
              "      <td>74</td>\n",
              "      <td>1500</td>\n",
              "      <td>7</td>\n",
              "      <td>SEA</td>\n",
              "      <td>2016-01-01</td>\n",
              "      <td>7</td>\n",
              "      <td>107</td>\n",
              "      <td>113</td>\n",
              "      <td>0.0</td>\n",
              "      <td>10</td>\n",
              "      <td>1030</td>\n",
              "      <td>0</td>\n",
              "      <td>23</td>\n",
              "      <td>8</td>\n",
              "      <td>34</td>\n",
              "      <td>29</td>\n",
              "      <td>66</td>\n",
              "      <td>700</td>\n",
              "    </tr>\n",
              "    <tr>\n",
              "      <th>4</th>\n",
              "      <td>4</td>\n",
              "      <td>356750</td>\n",
              "      <td>2016-01-01</td>\n",
              "      <td>1</td>\n",
              "      <td>2016</td>\n",
              "      <td>1</td>\n",
              "      <td>1</td>\n",
              "      <td>726.0</td>\n",
              "      <td>0.0</td>\n",
              "      <td>700</td>\n",
              "      <td>0.0</td>\n",
              "      <td>14747</td>\n",
              "      <td>12892</td>\n",
              "      <td>1022.0</td>\n",
              "      <td>1000</td>\n",
              "      <td>0.0</td>\n",
              "      <td>3.0</td>\n",
              "      <td>SEA</td>\n",
              "      <td>LAX</td>\n",
              "      <td>10</td>\n",
              "      <td>LAX</td>\n",
              "      <td>2016-01-01</td>\n",
              "      <td>10</td>\n",
              "      <td>39</td>\n",
              "      <td>113</td>\n",
              "      <td>0.0</td>\n",
              "      <td>10</td>\n",
              "      <td>1020</td>\n",
              "      <td>9</td>\n",
              "      <td>29</td>\n",
              "      <td>13</td>\n",
              "      <td>53</td>\n",
              "      <td>49</td>\n",
              "      <td>42</td>\n",
              "      <td>1000</td>\n",
              "      <td>7</td>\n",
              "      <td>SEA</td>\n",
              "      <td>2016-01-01</td>\n",
              "      <td>7</td>\n",
              "      <td>107</td>\n",
              "      <td>113</td>\n",
              "      <td>0.0</td>\n",
              "      <td>10</td>\n",
              "      <td>1030</td>\n",
              "      <td>0</td>\n",
              "      <td>23</td>\n",
              "      <td>8</td>\n",
              "      <td>34</td>\n",
              "      <td>29</td>\n",
              "      <td>66</td>\n",
              "      <td>700</td>\n",
              "    </tr>\n",
              "    <tr>\n",
              "      <th>...</th>\n",
              "      <td>...</td>\n",
              "      <td>...</td>\n",
              "      <td>...</td>\n",
              "      <td>...</td>\n",
              "      <td>...</td>\n",
              "      <td>...</td>\n",
              "      <td>...</td>\n",
              "      <td>...</td>\n",
              "      <td>...</td>\n",
              "      <td>...</td>\n",
              "      <td>...</td>\n",
              "      <td>...</td>\n",
              "      <td>...</td>\n",
              "      <td>...</td>\n",
              "      <td>...</td>\n",
              "      <td>...</td>\n",
              "      <td>...</td>\n",
              "      <td>...</td>\n",
              "      <td>...</td>\n",
              "      <td>...</td>\n",
              "      <td>...</td>\n",
              "      <td>...</td>\n",
              "      <td>...</td>\n",
              "      <td>...</td>\n",
              "      <td>...</td>\n",
              "      <td>...</td>\n",
              "      <td>...</td>\n",
              "      <td>...</td>\n",
              "      <td>...</td>\n",
              "      <td>...</td>\n",
              "      <td>...</td>\n",
              "      <td>...</td>\n",
              "      <td>...</td>\n",
              "      <td>...</td>\n",
              "      <td>...</td>\n",
              "      <td>...</td>\n",
              "      <td>...</td>\n",
              "      <td>...</td>\n",
              "      <td>...</td>\n",
              "      <td>...</td>\n",
              "      <td>...</td>\n",
              "      <td>...</td>\n",
              "      <td>...</td>\n",
              "      <td>...</td>\n",
              "      <td>...</td>\n",
              "      <td>...</td>\n",
              "      <td>...</td>\n",
              "      <td>...</td>\n",
              "      <td>...</td>\n",
              "      <td>...</td>\n",
              "      <td>...</td>\n",
              "    </tr>\n",
              "    <tr>\n",
              "      <th>1815400</th>\n",
              "      <td>1815400</td>\n",
              "      <td>453453</td>\n",
              "      <td>2017-09-18</td>\n",
              "      <td>3</td>\n",
              "      <td>2017</td>\n",
              "      <td>9</td>\n",
              "      <td>18</td>\n",
              "      <td>2240.0</td>\n",
              "      <td>0.0</td>\n",
              "      <td>2200</td>\n",
              "      <td>0.0</td>\n",
              "      <td>12478</td>\n",
              "      <td>12892</td>\n",
              "      <td>134.0</td>\n",
              "      <td>200</td>\n",
              "      <td>0.0</td>\n",
              "      <td>0.0</td>\n",
              "      <td>JFK</td>\n",
              "      <td>LAX</td>\n",
              "      <td>410</td>\n",
              "      <td>LAX</td>\n",
              "      <td>2017-09-18</td>\n",
              "      <td>5</td>\n",
              "      <td>220</td>\n",
              "      <td>113</td>\n",
              "      <td>0.0</td>\n",
              "      <td>10</td>\n",
              "      <td>1012</td>\n",
              "      <td>1</td>\n",
              "      <td>70</td>\n",
              "      <td>6</td>\n",
              "      <td>74</td>\n",
              "      <td>74</td>\n",
              "      <td>87</td>\n",
              "      <td>200</td>\n",
              "      <td>430</td>\n",
              "      <td>JFK</td>\n",
              "      <td>2017-09-18</td>\n",
              "      <td>19</td>\n",
              "      <td>60</td>\n",
              "      <td>122</td>\n",
              "      <td>0.0</td>\n",
              "      <td>10</td>\n",
              "      <td>1018</td>\n",
              "      <td>98</td>\n",
              "      <td>67</td>\n",
              "      <td>26</td>\n",
              "      <td>69</td>\n",
              "      <td>69</td>\n",
              "      <td>92</td>\n",
              "      <td>2200</td>\n",
              "    </tr>\n",
              "    <tr>\n",
              "      <th>1815401</th>\n",
              "      <td>1815401</td>\n",
              "      <td>455805</td>\n",
              "      <td>2017-09-21</td>\n",
              "      <td>3</td>\n",
              "      <td>2017</td>\n",
              "      <td>9</td>\n",
              "      <td>21</td>\n",
              "      <td>2358.0</td>\n",
              "      <td>1.0</td>\n",
              "      <td>2200</td>\n",
              "      <td>73.0</td>\n",
              "      <td>12478</td>\n",
              "      <td>12892</td>\n",
              "      <td>247.0</td>\n",
              "      <td>200</td>\n",
              "      <td>1.0</td>\n",
              "      <td>51.0</td>\n",
              "      <td>JFK</td>\n",
              "      <td>LAX</td>\n",
              "      <td>482</td>\n",
              "      <td>LAX</td>\n",
              "      <td>2017-09-21</td>\n",
              "      <td>11</td>\n",
              "      <td>179</td>\n",
              "      <td>143</td>\n",
              "      <td>0.0</td>\n",
              "      <td>10</td>\n",
              "      <td>1010</td>\n",
              "      <td>56</td>\n",
              "      <td>63</td>\n",
              "      <td>12</td>\n",
              "      <td>65</td>\n",
              "      <td>65</td>\n",
              "      <td>91</td>\n",
              "      <td>200</td>\n",
              "      <td>502</td>\n",
              "      <td>JFK</td>\n",
              "      <td>2017-09-21</td>\n",
              "      <td>18</td>\n",
              "      <td>28</td>\n",
              "      <td>122</td>\n",
              "      <td>0.0</td>\n",
              "      <td>10</td>\n",
              "      <td>1015</td>\n",
              "      <td>96</td>\n",
              "      <td>64</td>\n",
              "      <td>26</td>\n",
              "      <td>72</td>\n",
              "      <td>72</td>\n",
              "      <td>75</td>\n",
              "      <td>2200</td>\n",
              "    </tr>\n",
              "    <tr>\n",
              "      <th>1815402</th>\n",
              "      <td>1815402</td>\n",
              "      <td>456636</td>\n",
              "      <td>2017-09-22</td>\n",
              "      <td>3</td>\n",
              "      <td>2017</td>\n",
              "      <td>9</td>\n",
              "      <td>22</td>\n",
              "      <td>2240.0</td>\n",
              "      <td>0.0</td>\n",
              "      <td>2200</td>\n",
              "      <td>0.0</td>\n",
              "      <td>12478</td>\n",
              "      <td>12892</td>\n",
              "      <td>141.0</td>\n",
              "      <td>200</td>\n",
              "      <td>0.0</td>\n",
              "      <td>0.0</td>\n",
              "      <td>JFK</td>\n",
              "      <td>LAX</td>\n",
              "      <td>506</td>\n",
              "      <td>LAX</td>\n",
              "      <td>2017-09-22</td>\n",
              "      <td>10</td>\n",
              "      <td>135</td>\n",
              "      <td>113</td>\n",
              "      <td>0.0</td>\n",
              "      <td>10</td>\n",
              "      <td>1010</td>\n",
              "      <td>3</td>\n",
              "      <td>59</td>\n",
              "      <td>12</td>\n",
              "      <td>67</td>\n",
              "      <td>67</td>\n",
              "      <td>75</td>\n",
              "      <td>200</td>\n",
              "      <td>526</td>\n",
              "      <td>JFK</td>\n",
              "      <td>2017-09-22</td>\n",
              "      <td>22</td>\n",
              "      <td>14</td>\n",
              "      <td>116</td>\n",
              "      <td>0.0</td>\n",
              "      <td>10</td>\n",
              "      <td>1014</td>\n",
              "      <td>48</td>\n",
              "      <td>57</td>\n",
              "      <td>33</td>\n",
              "      <td>71</td>\n",
              "      <td>71</td>\n",
              "      <td>63</td>\n",
              "      <td>2200</td>\n",
              "    </tr>\n",
              "    <tr>\n",
              "      <th>1815403</th>\n",
              "      <td>1815403</td>\n",
              "      <td>457242</td>\n",
              "      <td>2017-09-23</td>\n",
              "      <td>3</td>\n",
              "      <td>2017</td>\n",
              "      <td>9</td>\n",
              "      <td>23</td>\n",
              "      <td>2146.0</td>\n",
              "      <td>0.0</td>\n",
              "      <td>2100</td>\n",
              "      <td>3.0</td>\n",
              "      <td>12478</td>\n",
              "      <td>12892</td>\n",
              "      <td>21.0</td>\n",
              "      <td>100</td>\n",
              "      <td>0.0</td>\n",
              "      <td>0.0</td>\n",
              "      <td>JFK</td>\n",
              "      <td>LAX</td>\n",
              "      <td>529</td>\n",
              "      <td>LAX</td>\n",
              "      <td>2017-09-23</td>\n",
              "      <td>6</td>\n",
              "      <td>202</td>\n",
              "      <td>113</td>\n",
              "      <td>0.0</td>\n",
              "      <td>10</td>\n",
              "      <td>1009</td>\n",
              "      <td>4</td>\n",
              "      <td>61</td>\n",
              "      <td>8</td>\n",
              "      <td>68</td>\n",
              "      <td>68</td>\n",
              "      <td>80</td>\n",
              "      <td>100</td>\n",
              "      <td>549</td>\n",
              "      <td>JFK</td>\n",
              "      <td>2017-09-23</td>\n",
              "      <td>12</td>\n",
              "      <td>1</td>\n",
              "      <td>113</td>\n",
              "      <td>0.0</td>\n",
              "      <td>10</td>\n",
              "      <td>1017</td>\n",
              "      <td>0</td>\n",
              "      <td>68</td>\n",
              "      <td>15</td>\n",
              "      <td>86</td>\n",
              "      <td>86</td>\n",
              "      <td>55</td>\n",
              "      <td>2100</td>\n",
              "    </tr>\n",
              "    <tr>\n",
              "      <th>1815404</th>\n",
              "      <td>1815404</td>\n",
              "      <td>458172</td>\n",
              "      <td>2017-09-24</td>\n",
              "      <td>3</td>\n",
              "      <td>2017</td>\n",
              "      <td>9</td>\n",
              "      <td>24</td>\n",
              "      <td>2246.0</td>\n",
              "      <td>0.0</td>\n",
              "      <td>2200</td>\n",
              "      <td>1.0</td>\n",
              "      <td>12478</td>\n",
              "      <td>12892</td>\n",
              "      <td>143.0</td>\n",
              "      <td>200</td>\n",
              "      <td>0.0</td>\n",
              "      <td>0.0</td>\n",
              "      <td>JFK</td>\n",
              "      <td>LAX</td>\n",
              "      <td>554</td>\n",
              "      <td>LAX</td>\n",
              "      <td>2017-09-24</td>\n",
              "      <td>4</td>\n",
              "      <td>193</td>\n",
              "      <td>113</td>\n",
              "      <td>0.0</td>\n",
              "      <td>10</td>\n",
              "      <td>1011</td>\n",
              "      <td>3</td>\n",
              "      <td>64</td>\n",
              "      <td>6</td>\n",
              "      <td>72</td>\n",
              "      <td>72</td>\n",
              "      <td>78</td>\n",
              "      <td>200</td>\n",
              "      <td>574</td>\n",
              "      <td>JFK</td>\n",
              "      <td>2017-09-24</td>\n",
              "      <td>3</td>\n",
              "      <td>192</td>\n",
              "      <td>113</td>\n",
              "      <td>0.0</td>\n",
              "      <td>10</td>\n",
              "      <td>1017</td>\n",
              "      <td>14</td>\n",
              "      <td>70</td>\n",
              "      <td>10</td>\n",
              "      <td>74</td>\n",
              "      <td>74</td>\n",
              "      <td>87</td>\n",
              "      <td>2200</td>\n",
              "    </tr>\n",
              "  </tbody>\n",
              "</table>\n",
              "<p>1815405 rows × 51 columns</p>\n",
              "</div>\n",
              "      <button class=\"colab-df-convert\" onclick=\"convertToInteractive('df-975aa619-949a-47c0-92f7-0a0bacc6b491')\"\n",
              "              title=\"Convert this dataframe to an interactive table.\"\n",
              "              style=\"display:none;\">\n",
              "        \n",
              "  <svg xmlns=\"http://www.w3.org/2000/svg\" height=\"24px\"viewBox=\"0 0 24 24\"\n",
              "       width=\"24px\">\n",
              "    <path d=\"M0 0h24v24H0V0z\" fill=\"none\"/>\n",
              "    <path d=\"M18.56 5.44l.94 2.06.94-2.06 2.06-.94-2.06-.94-.94-2.06-.94 2.06-2.06.94zm-11 1L8.5 8.5l.94-2.06 2.06-.94-2.06-.94L8.5 2.5l-.94 2.06-2.06.94zm10 10l.94 2.06.94-2.06 2.06-.94-2.06-.94-.94-2.06-.94 2.06-2.06.94z\"/><path d=\"M17.41 7.96l-1.37-1.37c-.4-.4-.92-.59-1.43-.59-.52 0-1.04.2-1.43.59L10.3 9.45l-7.72 7.72c-.78.78-.78 2.05 0 2.83L4 21.41c.39.39.9.59 1.41.59.51 0 1.02-.2 1.41-.59l7.78-7.78 2.81-2.81c.8-.78.8-2.07 0-2.86zM5.41 20L4 18.59l7.72-7.72 1.47 1.35L5.41 20z\"/>\n",
              "  </svg>\n",
              "      </button>\n",
              "      \n",
              "  <style>\n",
              "    .colab-df-container {\n",
              "      display:flex;\n",
              "      flex-wrap:wrap;\n",
              "      gap: 12px;\n",
              "    }\n",
              "\n",
              "    .colab-df-convert {\n",
              "      background-color: #E8F0FE;\n",
              "      border: none;\n",
              "      border-radius: 50%;\n",
              "      cursor: pointer;\n",
              "      display: none;\n",
              "      fill: #1967D2;\n",
              "      height: 32px;\n",
              "      padding: 0 0 0 0;\n",
              "      width: 32px;\n",
              "    }\n",
              "\n",
              "    .colab-df-convert:hover {\n",
              "      background-color: #E2EBFA;\n",
              "      box-shadow: 0px 1px 2px rgba(60, 64, 67, 0.3), 0px 1px 3px 1px rgba(60, 64, 67, 0.15);\n",
              "      fill: #174EA6;\n",
              "    }\n",
              "\n",
              "    [theme=dark] .colab-df-convert {\n",
              "      background-color: #3B4455;\n",
              "      fill: #D2E3FC;\n",
              "    }\n",
              "\n",
              "    [theme=dark] .colab-df-convert:hover {\n",
              "      background-color: #434B5C;\n",
              "      box-shadow: 0px 1px 3px 1px rgba(0, 0, 0, 0.15);\n",
              "      filter: drop-shadow(0px 1px 2px rgba(0, 0, 0, 0.3));\n",
              "      fill: #FFFFFF;\n",
              "    }\n",
              "  </style>\n",
              "\n",
              "      <script>\n",
              "        const buttonEl =\n",
              "          document.querySelector('#df-975aa619-949a-47c0-92f7-0a0bacc6b491 button.colab-df-convert');\n",
              "        buttonEl.style.display =\n",
              "          google.colab.kernel.accessAllowed ? 'block' : 'none';\n",
              "\n",
              "        async function convertToInteractive(key) {\n",
              "          const element = document.querySelector('#df-975aa619-949a-47c0-92f7-0a0bacc6b491');\n",
              "          const dataTable =\n",
              "            await google.colab.kernel.invokeFunction('convertToInteractive',\n",
              "                                                     [key], {});\n",
              "          if (!dataTable) return;\n",
              "\n",
              "          const docLinkHtml = 'Like what you see? Visit the ' +\n",
              "            '<a target=\"_blank\" href=https://colab.research.google.com/notebooks/data_table.ipynb>data table notebook</a>'\n",
              "            + ' to learn more about interactive tables.';\n",
              "          element.innerHTML = '';\n",
              "          dataTable['output_type'] = 'display_data';\n",
              "          await google.colab.output.renderOutput(dataTable, element);\n",
              "          const docLink = document.createElement('div');\n",
              "          docLink.innerHTML = docLinkHtml;\n",
              "          element.appendChild(docLink);\n",
              "        }\n",
              "      </script>\n",
              "    </div>\n",
              "  </div>\n",
              "  "
            ],
            "text/plain": [
              "         Unnamed: 0  Unnamed: 0_x  FlightDate  ...  WindChillF_y  humidity_y  time_y\n",
              "0                 0            57  2016-01-01  ...            29          66     700\n",
              "1                 1        219870  2016-01-01  ...            29          66     700\n",
              "2                 2        356730  2016-01-01  ...            29          66     700\n",
              "3                 3        334974  2016-01-01  ...            29          66     700\n",
              "4                 4        356750  2016-01-01  ...            29          66     700\n",
              "...             ...           ...         ...  ...           ...         ...     ...\n",
              "1815400     1815400        453453  2017-09-18  ...            69          92    2200\n",
              "1815401     1815401        455805  2017-09-21  ...            72          75    2200\n",
              "1815402     1815402        456636  2017-09-22  ...            71          63    2200\n",
              "1815403     1815403        457242  2017-09-23  ...            86          55    2100\n",
              "1815404     1815404        458172  2017-09-24  ...            74          87    2200\n",
              "\n",
              "[1815405 rows x 51 columns]"
            ]
          },
          "metadata": {},
          "execution_count": 43
        }
      ]
    },
    {
      "cell_type": "code",
      "source": [
        "k=[]\n",
        "for i in df.ArrDelayMinutes:\n",
        "  if i>=15:\n",
        "      app=1      \n",
        "  else:\n",
        "      app=0\n",
        "  k.append(app)"
      ],
      "metadata": {
        "id": "OysybvJAGJpZ"
      },
      "execution_count": 4,
      "outputs": []
    },
    {
      "cell_type": "code",
      "source": [
        "df['TargetDelay']=k"
      ],
      "metadata": {
        "id": "nkH_C2wLGg6b"
      },
      "execution_count": 5,
      "outputs": []
    },
    {
      "cell_type": "code",
      "source": [
        ""
      ],
      "metadata": {
        "id": "YuvtUivsm6wy"
      },
      "execution_count": null,
      "outputs": []
    },
    {
      "cell_type": "code",
      "source": [
        "\n",
        "\n",
        "X=df.drop([\"ArrDelayMinutes\",\n",
        "                \"ArrTime\",\n",
        "                \"ArrDel15\",\n",
        "                 \"Unnamed: 0_x\",\n",
        "                 \"Unnamed: 0_y\",\n",
        "                 \"Unnamed: 0.1\",\n",
        "                \"Origin\",\n",
        "                \"Dest\",\n",
        "                \"airport_x\",\n",
        "                \"airport_y\",\n",
        "                \"FlightDate\",\n",
        "                \"date_y\",\n",
        "                \"date_x\",\n",
        "                \"time_x\",\n",
        "                \"time_y\",\n",
        "                \"windspeedKmph_y\",\n",
        "                \"winddirDegree_y\",\n",
        "                \"weatherCode_y\",\n",
        "                \"precipMM_y\",\n",
        "                \"visibility_y\",\n",
        "                \"pressure_y\",\n",
        "                \"cloudcover_y\",\n",
        "                \"DewPointF_y\",\n",
        "                \"WindGustKmph_y\",\n",
        "                \"tempF_y\",\n",
        "               \"WindChillF_y\",\n",
        "               \"humidity_y\",\n",
        "           \"TargetDelay\",\"Unnamed: 0\"],axis=1)\n",
        "X\n",
        "Y=df[\"TargetDelay\"]\n",
        "\n"
      ],
      "metadata": {
        "id": "J3quJwJjHqkI"
      },
      "execution_count": 47,
      "outputs": []
    },
    {
      "cell_type": "code",
      "source": [
        "from sklearn.model_selection import train_test_split  \n",
        "X_train, X_test, Y_train, Y_test = train_test_split(X, Y, test_size = 0.25, random_state = 12) "
      ],
      "metadata": {
        "id": "2rWVDOWrLyfo"
      },
      "execution_count": 7,
      "outputs": []
    },
    {
      "cell_type": "code",
      "source": [
        "\n",
        "\n",
        "from sklearn.ensemble import ExtraTreesClassifier\n",
        "etc=ExtraTreesClassifier(n_jobs=-1,random_state = None)\n",
        "etc.fit(X_train,Y_train)\n",
        "\n"
      ],
      "metadata": {
        "colab": {
          "base_uri": "https://localhost:8080/"
        },
        "id": "G7pDwXg6Itip",
        "outputId": "5e522d47-6f01-4585-e5f7-a09c6930cdb5"
      },
      "execution_count": 8,
      "outputs": [
        {
          "output_type": "execute_result",
          "data": {
            "text/plain": [
              "ExtraTreesClassifier(n_jobs=-1)"
            ]
          },
          "metadata": {},
          "execution_count": 8
        }
      ]
    },
    {
      "cell_type": "code",
      "source": [
        "Y_predetc=etc.predict(X_test)"
      ],
      "metadata": {
        "id": "LoM7JXSpLrWq"
      },
      "execution_count": 9,
      "outputs": []
    },
    {
      "cell_type": "code",
      "source": [
        "#ACCURACY\n",
        "\n"
      ],
      "metadata": {
        "colab": {
          "base_uri": "https://localhost:8080/"
        },
        "id": "uE77_nVuIy6P",
        "outputId": "b7e856a7-88fa-487a-d6d2-35e216cfaf7d"
      },
      "execution_count": 29,
      "outputs": [
        {
          "output_type": "execute_result",
          "data": {
            "text/plain": [
              "0.9169464935705913"
            ]
          },
          "metadata": {},
          "execution_count": 29
        }
      ]
    },
    {
      "cell_type": "code",
      "source": [
        "\n",
        "\n",
        "from sklearn.metrics import classification_report\n",
        "target_names=[\"Class 0\",\"Class 1\"]\n",
        "print(classification_report(Y_test,Y_predetc,target_names=target_names))\n",
        "\n"
      ],
      "metadata": {
        "colab": {
          "base_uri": "https://localhost:8080/"
        },
        "id": "vLhgGw5aI39A",
        "outputId": "6ae77c7e-73d6-4c53-ba0d-f09baef5b083"
      },
      "execution_count": 10,
      "outputs": [
        {
          "output_type": "stream",
          "name": "stdout",
          "text": [
            "              precision    recall  f1-score   support\n",
            "\n",
            "     Class 0       0.93      0.95      0.94    358621\n",
            "     Class 1       0.80      0.74      0.77     95231\n",
            "\n",
            "    accuracy                           0.91    453852\n",
            "   macro avg       0.87      0.85      0.86    453852\n",
            "weighted avg       0.90      0.91      0.91    453852\n",
            "\n"
          ]
        }
      ]
    },
    {
      "cell_type": "code",
      "source": [
        "DecClf=DecisionTreeClassifier()"
      ],
      "metadata": {
        "id": "qNJ4iASbJAS2"
      },
      "execution_count": 11,
      "outputs": []
    },
    {
      "cell_type": "code",
      "source": [
        "DecClf.fit(X_train,Y_train)"
      ],
      "metadata": {
        "colab": {
          "base_uri": "https://localhost:8080/"
        },
        "id": "tx24Z5pbJOUm",
        "outputId": "a58dde6b-f605-4cb5-cdb4-a00212f4de1b"
      },
      "execution_count": 12,
      "outputs": [
        {
          "output_type": "execute_result",
          "data": {
            "text/plain": [
              "DecisionTreeClassifier()"
            ]
          },
          "metadata": {},
          "execution_count": 12
        }
      ]
    },
    {
      "cell_type": "code",
      "source": [
        "Y_predDec=DecClf.predict(X_test)"
      ],
      "metadata": {
        "id": "WWFVq28nNhUA"
      },
      "execution_count": 13,
      "outputs": []
    },
    {
      "cell_type": "code",
      "source": [
        "\n",
        "target_names=[\"Class 0\",\"Class 1\"]\n",
        "print(classification_report(Y_test,Y_predDec,target_names=target_names))"
      ],
      "metadata": {
        "colab": {
          "base_uri": "https://localhost:8080/"
        },
        "id": "N3_o5Su9NiQc",
        "outputId": "1e493902-bc24-4938-a350-61815c8025b1"
      },
      "execution_count": 14,
      "outputs": [
        {
          "output_type": "stream",
          "name": "stdout",
          "text": [
            "              precision    recall  f1-score   support\n",
            "\n",
            "     Class 0       0.92      0.91      0.92    358621\n",
            "     Class 1       0.69      0.71      0.70     95231\n",
            "\n",
            "    accuracy                           0.87    453852\n",
            "   macro avg       0.80      0.81      0.81    453852\n",
            "weighted avg       0.87      0.87      0.87    453852\n",
            "\n"
          ]
        }
      ]
    },
    {
      "cell_type": "code",
      "source": [
        "XGBB=XGBClassifier()"
      ],
      "metadata": {
        "id": "iLo5e5VCOMQT"
      },
      "execution_count": 25,
      "outputs": []
    },
    {
      "cell_type": "code",
      "source": [
        "XGBB.fit(X_train,Y_train)"
      ],
      "metadata": {
        "colab": {
          "base_uri": "https://localhost:8080/"
        },
        "id": "TRNVh7sIPrHH",
        "outputId": "8f53a71f-c107-49a8-f613-e3a6d55bddac"
      },
      "execution_count": 26,
      "outputs": [
        {
          "output_type": "execute_result",
          "data": {
            "text/plain": [
              "XGBClassifier()"
            ]
          },
          "metadata": {},
          "execution_count": 26
        }
      ]
    },
    {
      "cell_type": "code",
      "source": [
        "Y_predXG=XGBB.predict(X_test)"
      ],
      "metadata": {
        "id": "f-0fIPEZPvaw"
      },
      "execution_count": 27,
      "outputs": []
    },
    {
      "cell_type": "code",
      "source": [
        "from sklearn import metrics\n",
        "cm=metrics.confusion_matrix(Y_test,Y_predXG)\n",
        "print(cm)"
      ],
      "metadata": {
        "colab": {
          "base_uri": "https://localhost:8080/"
        },
        "id": "7J5Rdot1Ta6J",
        "outputId": "c53954bf-fc68-4a45-d465-d08ebe725385"
      },
      "execution_count": 28,
      "outputs": [
        {
          "output_type": "stream",
          "name": "stdout",
          "text": [
            "[[351320   7301]\n",
            " [ 30393  64838]]\n"
          ]
        }
      ]
    },
    {
      "cell_type": "code",
      "source": [
        "from sklearn.metrics import accuracy_score\n",
        "accuracy_score(Y_test, Y_predXG)\n"
      ],
      "metadata": {
        "colab": {
          "base_uri": "https://localhost:8080/"
        },
        "id": "Vnm_doXAQWr5",
        "outputId": "f9c95a63-4edb-4349-e07c-2b6c5edc3667"
      },
      "execution_count": 30,
      "outputs": [
        {
          "output_type": "execute_result",
          "data": {
            "text/plain": [
              "0.9169464935705913"
            ]
          },
          "metadata": {},
          "execution_count": 30
        }
      ]
    },
    {
      "cell_type": "code",
      "source": [
        "from sklearn.ensemble import RandomForestClassifier"
      ],
      "metadata": {
        "id": "cbt8FmvkQjjA"
      },
      "execution_count": 31,
      "outputs": []
    },
    {
      "cell_type": "code",
      "source": [
        "rf_clf=RandomForestClassifier(n_estimators = 100)"
      ],
      "metadata": {
        "id": "c1ETqCh8WEga"
      },
      "execution_count": 34,
      "outputs": []
    },
    {
      "cell_type": "code",
      "source": [
        "rf_clf.fit(X_train,Y_train)"
      ],
      "metadata": {
        "colab": {
          "base_uri": "https://localhost:8080/"
        },
        "id": "6Jix9lLRWHyk",
        "outputId": "1e578525-8b32-4c6c-ad8d-7976f388c66a"
      },
      "execution_count": 35,
      "outputs": [
        {
          "output_type": "execute_result",
          "data": {
            "text/plain": [
              "RandomForestClassifier()"
            ]
          },
          "metadata": {},
          "execution_count": 35
        }
      ]
    },
    {
      "cell_type": "code",
      "source": [
        "Y_predRF=rf_clf.predict(X_test)"
      ],
      "metadata": {
        "id": "wRkGxWtyWL1A"
      },
      "execution_count": 36,
      "outputs": []
    },
    {
      "cell_type": "code",
      "source": [
        "target_names=[\"Class 0\",\"Class 1\"]\n",
        "print(classification_report(Y_test,Y_predRF,target_names=target_names))"
      ],
      "metadata": {
        "colab": {
          "base_uri": "https://localhost:8080/"
        },
        "id": "HjMF233fWROY",
        "outputId": "599c567b-c7b3-4114-dded-a5e25d7d680c"
      },
      "execution_count": 37,
      "outputs": [
        {
          "output_type": "stream",
          "name": "stdout",
          "text": [
            "              precision    recall  f1-score   support\n",
            "\n",
            "     Class 0       0.93      0.97      0.95    358621\n",
            "     Class 1       0.87      0.71      0.78     95231\n",
            "\n",
            "    accuracy                           0.92    453852\n",
            "   macro avg       0.90      0.84      0.86    453852\n",
            "weighted avg       0.91      0.92      0.91    453852\n",
            "\n"
          ]
        }
      ]
    },
    {
      "cell_type": "code",
      "source": [
        "lr=LogisticRegression()"
      ],
      "metadata": {
        "id": "yiwtbJZ7WqDM"
      },
      "execution_count": 39,
      "outputs": []
    },
    {
      "cell_type": "code",
      "source": [
        "lr.fit(X_train,Y_train)"
      ],
      "metadata": {
        "colab": {
          "base_uri": "https://localhost:8080/"
        },
        "id": "CCmVZVrdksvj",
        "outputId": "04be2110-eea1-4ab7-cc3d-08a3dee0a607"
      },
      "execution_count": 40,
      "outputs": [
        {
          "output_type": "stream",
          "name": "stderr",
          "text": [
            "/usr/local/lib/python3.7/dist-packages/sklearn/linear_model/_logistic.py:818: ConvergenceWarning: lbfgs failed to converge (status=1):\n",
            "STOP: TOTAL NO. of ITERATIONS REACHED LIMIT.\n",
            "\n",
            "Increase the number of iterations (max_iter) or scale the data as shown in:\n",
            "    https://scikit-learn.org/stable/modules/preprocessing.html\n",
            "Please also refer to the documentation for alternative solver options:\n",
            "    https://scikit-learn.org/stable/modules/linear_model.html#logistic-regression\n",
            "  extra_warning_msg=_LOGISTIC_SOLVER_CONVERGENCE_MSG,\n"
          ]
        },
        {
          "output_type": "execute_result",
          "data": {
            "text/plain": [
              "LogisticRegression()"
            ]
          },
          "metadata": {},
          "execution_count": 40
        }
      ]
    },
    {
      "cell_type": "code",
      "source": [
        "Y_predLR=lr.predict(X_test)"
      ],
      "metadata": {
        "id": "vouAW5_6kvxz"
      },
      "execution_count": 41,
      "outputs": []
    },
    {
      "cell_type": "code",
      "source": [
        "target_names=[\"Class 0\",\"Class 1\"]\n",
        "print(classification_report(Y_test,Y_predLR,target_names=target_names))"
      ],
      "metadata": {
        "colab": {
          "base_uri": "https://localhost:8080/"
        },
        "id": "q-gf84mLk2A8",
        "outputId": "32342dc1-47c2-4924-bfe2-5fcf14a0bd4a"
      },
      "execution_count": 42,
      "outputs": [
        {
          "output_type": "stream",
          "name": "stdout",
          "text": [
            "              precision    recall  f1-score   support\n",
            "\n",
            "     Class 0       0.91      0.98      0.95    358621\n",
            "     Class 1       0.90      0.65      0.76     95231\n",
            "\n",
            "    accuracy                           0.91    453852\n",
            "   macro avg       0.91      0.82      0.85    453852\n",
            "weighted avg       0.91      0.91      0.91    453852\n",
            "\n"
          ]
        }
      ]
    },
    {
      "cell_type": "code",
      "source": [
        ""
      ],
      "metadata": {
        "id": "Hn3bZseBk5lS"
      },
      "execution_count": null,
      "outputs": []
    }
  ]
}