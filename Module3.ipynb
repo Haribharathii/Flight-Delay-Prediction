{
 "cells": [
  {
   "cell_type": "markdown",
   "metadata": {},
   "source": [
    "# Python Basics"
   ]
  },
  {
   "cell_type": "markdown",
   "metadata": {},
   "source": [
    "These assignments aim to get you acquainted with Python, which is an important requirement for all the research done at Solarillion Foundation. Apart from teaching you Python, these assignments also aim to make you a better programmer and cultivate better coding practices. \n",
    "\n",
    "Visit these links for more details: <br>\n",
    "PEP8 Practices: https://www.python.org/dev/peps/pep-0008/ <br>\n",
    "Check PEP8: http://pep8online.com <br>\n",
    "Python Reference: https://www.py4e.com/lessons <br>\n",
    "\n",
    "Do use Google efficiently, and refer to StackOverflow for clarifying any programming doubts. If you're still stuck, feel free to ask a TA to help you.\n",
    "\n",
    "Each task in the assignment comprises of at least two cells. There are function definitions wherein you will name the function(s), and write code to solve the problem at hand. You will call the function(s) in the last cell of each task, and check your output.\n",
    "\n",
    "We encourage you to play around and learn as much as possible, and be as creative as you can get. More than anything, have fun doing these assignments. Enjoy!"
   ]
  },
  {
   "cell_type": "markdown",
   "metadata": {},
   "source": [
    "# Important\n",
    "* **Only the imports and functions must be present when you upload this notebook to GitHub for verification.** \n",
    "* **Do not upload it until you want to get it verified. Do not change function names or add extra cells or code, or remove anything.**\n",
    "* **For your rough work and four showing your code to TAs, use a different notebook with the name Module2Playground.ipynb and copy only the final functions to this notebook for verification.**"
   ]
  },
  {
   "cell_type": "markdown",
   "metadata": {},
   "source": [
    "# Module 3\n",
    "Scope: Algorithmic Thinking, Programming"
   ]
  },
  {
   "cell_type": "markdown",
   "metadata": {},
   "source": [
    "## Imports - Always Execute First!\n",
    "Import any modules and turn on any magic here:"
   ]
  },
  {
   "cell_type": "code",
   "execution_count": 1,
   "metadata": {},
   "outputs": [],
   "source": [
    "import random\n",
    "import matplotlib.pyplot as plt"
   ]
  },
  {
   "cell_type": "markdown",
   "metadata": {},
   "source": [
    "## Burger Mania"
   ]
  },
  {
   "cell_type": "code",
   "execution_count": 2,
   "metadata": {},
   "outputs": [
    {
     "data": {
      "text/plain": [
       "\"\\nImagine that you are a restaurant's cashier and are trying to keep records for analysing profits.\\n\\nYour restaurant sells 7 different items:\\n    1. Burgers - $4.25\\n    2. Nuggets - $2.50\\n    3. French Fries - $2.00\\n    4. Small Drink - $1.25\\n    5. Medium Drink - $1.50\\n    6. Large Drink - $1.75\\n    7. Salad - $3.75\\n\\nCreate a program to randomly generate the orders of each customer as a string of numbers\\n(corresponding to the item) and calculate the cost of the order. For example, if the generated\\nstring is 5712335, the program should understand that the customer has ordered 1 burger, 1 \\nportion of nuggets, 2 portions of fries, 2 medium drinks and 1 salad. It should then compute the\\ncost ($17.50). The final cost is calculated after considering discounts for combo offers and\\nadding 18% GST.\\n\\nThe combo offers are:\\nA) 1 Burger + 1 Portion of Fries + 1 Drink -> 20% discount\\nB) 1 Burger + 1 Portion of Nuggets + 1 Salad + 1 Drink -> 35% discount\\n\\nThe final cost of the 5712335 order is $13.4225. The profit gained each day has to be recorded for\\n30 days and plotted for analysis.\\n\\nNote:\\n    - There will be at least 20 customers and not more than 50 customers per day. Each customer\\n      orders at least 3 items and not more than 7 items.\\n    - If there is a possibility of availing multiple combo offers in an order, the program\\n      should select the offer with maximum discount.\\n\""
      ]
     },
     "execution_count": 2,
     "metadata": {},
     "output_type": "execute_result"
    }
   ],
   "source": [
    "\"\"\"\n",
    "Imagine that you are a restaurant's cashier and are trying to keep records for analysing profits.\n",
    "\n",
    "Your restaurant sells 7 different items:\n",
    "    1. Burgers - $4.25\n",
    "    2. Nuggets - $2.50\n",
    "    3. French Fries - $2.00\n",
    "    4. Small Drink - $1.25\n",
    "    5. Medium Drink - $1.50\n",
    "    6. Large Drink - $1.75\n",
    "    7. Salad - $3.75\n",
    "\n",
    "Create a program to randomly generate the orders of each customer as a string of numbers\n",
    "(corresponding to the item) and calculate the cost of the order. For example, if the generated\n",
    "string is 5712335, the program should understand that the customer has ordered 1 burger, 1 \n",
    "portion of nuggets, 2 portions of fries, 2 medium drinks and 1 salad. It should then compute the\n",
    "cost ($17.50). The final cost is calculated after considering discounts for combo offers and\n",
    "adding 18% GST.\n",
    "\n",
    "The combo offers are:\n",
    "A) 1 Burger + 1 Portion of Fries + 1 Drink -> 20% discount\n",
    "B) 1 Burger + 1 Portion of Nuggets + 1 Salad + 1 Drink -> 35% discount\n",
    "\n",
    "The final cost of the 5712335 order is $13.4225. The profit gained each day has to be recorded for\n",
    "30 days and plotted for analysis.\n",
    "\n",
    "Note:\n",
    "    - There will be at least 20 customers and not more than 50 customers per day. Each customer\n",
    "      orders at least 3 items and not more than 7 items.\n",
    "    - If there is a possibility of availing multiple combo offers in an order, the program\n",
    "      should select the offer with maximum discount.\n",
    "\"\"\""
   ]
  },
  {
   "cell_type": "code",
   "execution_count": 17,
   "metadata": {},
   "outputs": [],
   "source": [
    "def generate_order():\n",
    "    \"\"\"\n",
    "        Function 1: generate_order()\n",
    "        Return: A randomly generated order string\n",
    "    \"\"\"\n",
    "    global k2,str1\n",
    "    k2={}\n",
    "    for y in range(1,31):\n",
    "        customer=random.randint(20,50)  #customer count per day\n",
    "        k={}\n",
    "        for i in range(1,customer+1):\n",
    "            temp=[]\n",
    "            str1=\"\"\n",
    "            order_quantity=random.randint(3,7)\n",
    "            for j in range(0,order_quantity):\n",
    "                order=random.randint(1,7) #individual order\n",
    "                order_str=str(order)\n",
    "                str1+=order_str #conversion of integer order to string(cuz specified in docstring)\n",
    "            temp.append(str1)\n",
    "            k[i]=temp #order for one day\n",
    "        k2[y]=k #order for 30 days\n",
    "    return str1  #change it to k2 - for orders of 30 days, k - for orders of one day\n",
    "    "
   ]
  },
  {
   "cell_type": "code",
   "execution_count": 22,
   "metadata": {},
   "outputs": [
    {
     "data": {
      "text/plain": [
       "'7254151'"
      ]
     },
     "execution_count": 22,
     "metadata": {},
     "output_type": "execute_result"
    }
   ],
   "source": [
    "generate_order()"
   ]
  },
  {
   "cell_type": "code",
   "execution_count": 29,
   "metadata": {},
   "outputs": [],
   "source": [
    "def compute_cost(str1):\n",
    "    \"\"\"\n",
    "        Function 2: compute_cost(order)\n",
    "        Parameters: order (String)\n",
    "        Return: Final cost of order\n",
    "    \"\"\"\n",
    "    gst=18/100\n",
    "    cost=0\n",
    "    cost2=0\n",
    "    cost3=0\n",
    "    price=0\n",
    "    print(str1)\n",
    "    for i in str1:\n",
    "\n",
    "        #print(i,end=\"-\")\n",
    "        for sub in i:\n",
    "            if sub==\"1\":\n",
    "                cost=cost+4.25\n",
    "                #print(cost)\n",
    "            if sub==\"2\":\n",
    "                cost=cost+2.5\n",
    "                #print(cost)\n",
    "            if sub==\"3\":\n",
    "                cost=cost+2.0\n",
    "                #print(cost)\n",
    "            if sub==\"4\":\n",
    "                cost=cost+1.25\n",
    "                #print(cost)\n",
    "            if sub==\"5\":\n",
    "                cost=cost+1.5\n",
    "                #print(cost)\n",
    "            if sub==\"6\":\n",
    "                cost=cost+1.75\n",
    "                #print(cost)\n",
    "            if sub==\"7\":\n",
    "                cost=cost+3.75\n",
    "                #print(cost)\n",
    "        disc=0        \n",
    "        if \"4\" or \"5\" or \"6\" in str1:\n",
    "            if \"1\" in str1:\n",
    "                if \"3\" in str1:\n",
    "                    disc=20/100\n",
    "            if \"1\" in str1:\n",
    "                if \"2\" in str1:\n",
    "                    if \"7\" in str1:\n",
    "                        disc=35/100  #automatically chooses the highest discount due to control flow\n",
    "       # print(disc)\n",
    "        cost2=gst*cost\n",
    "        cost3=disc*cost\n",
    "        price=cost-cost3+cost2\n",
    "    return price"
   ]
  },
  {
   "cell_type": "code",
   "execution_count": 30,
   "metadata": {},
   "outputs": [
    {
     "name": "stdout",
     "output_type": "stream",
     "text": [
      "7254151\n"
     ]
    },
    {
     "data": {
      "text/plain": [
       "15.770000000000001"
      ]
     },
     "execution_count": 30,
     "metadata": {},
     "output_type": "execute_result"
    }
   ],
   "source": [
    "compute_cost(str1)"
   ]
  },
  {
   "cell_type": "code",
   "execution_count": 31,
   "metadata": {},
   "outputs": [],
   "source": [
    "def simulate_restaurant():\n",
    "    \"\"\"\n",
    "        Function 3: simulate_restaurant()\n",
    "        Purpose: Simulate the restaurant's operation using the previously declared functions,\n",
    "                 based on the constraints mentioned in the question\n",
    "        Output: Plot of profit over 30 days\n",
    "    \"\"\"\n",
    "    gst=18/100\n",
    "    price_dict={}\n",
    "    i1=0\n",
    "    for keys, values in k2.items():   \n",
    "            temp2=[]\n",
    "            total=0\n",
    "            i1=i1+1\n",
    "\n",
    "            #print(values,end=\"###\")\n",
    "            for q, j in values.items():\n",
    "                #print(j,end=\"-\")\n",
    "                for i in j:\n",
    "                    cost=0\n",
    "                    cost2=0\n",
    "                    cost3=0\n",
    "                    price=0\n",
    "                    #print(i,end=\"-\")\n",
    "                    for sub in i:\n",
    "                        if sub==\"1\":\n",
    "                            cost=cost+4.25\n",
    "                        if sub==\"2\":\n",
    "                            cost=cost+2.5\n",
    "                        if sub==\"3\":\n",
    "                            cost=cost+2.0\n",
    "                        if sub==\"4\":\n",
    "                            cost=cost+1.25\n",
    "                        if sub==\"5\":\n",
    "                            cost=cost+1\n",
    "                        if sub==\"6\":\n",
    "                            cost=cost+1.75\n",
    "                        if sub==\"7\":\n",
    "                            cost=cost+3.75\n",
    "                    disc=0        \n",
    "                    if \"4\" or \"5\" or \"6\" in i:\n",
    "                        if \"1\" in i:\n",
    "                            if \"3\" in i:\n",
    "                                disc=20/100\n",
    "                        if \"1\" in i:\n",
    "                            if \"2\" in i:\n",
    "                                if \"7\" in i:\n",
    "                                    disc=35/100\n",
    "\n",
    "                    cost2=gst*cost\n",
    "                    cost3=disc*cost\n",
    "                    price=cost-cost3+cost2\n",
    "                    total+=price\n",
    "                    #print(\"%.2f\" %price)\n",
    "\n",
    "            if total not in price_dict.values():\n",
    "                price_dict[i1]=total\n",
    "\n",
    "    plt_x=price_dict.keys()\n",
    "    plt_y=price_dict.values()\n",
    "    plotty=plt.plot(plt_x, plt_y)\n",
    "    plt.xlabel('Days')\n",
    "    plt.ylabel('Income')\n",
    "    plt.title('ProfitPlot')\n",
    "    plt.show()"
   ]
  },
  {
   "cell_type": "code",
   "execution_count": 32,
   "metadata": {},
   "outputs": [
    {
     "data": {
      "image/png": "[encoded data removed]",
      "text/plain": [
       "<Figure size 432x288 with 1 Axes>"
      ]
     },
     "metadata": {
      "needs_background": "light"
     },
     "output_type": "display_data"
    }
   ],
   "source": [
    "simulate_restaurant()"
   ]
  },
  {
   "cell_type": "markdown",
   "metadata": {},
   "source": [
    "You're done with the Basics of Python! Give yourself a pat on the back.\n",
    "\n",
    "Now, choose an area you want to work on - Machine Learning, Internet of Things or Microgrids - and get started with the assignments. You could also choose to do assignments from multiple areas, it's entirely up to you. Hope you have fun!"
   ]
  }
 ],
 "metadata": {
  "kernelspec": {
   "display_name": "Python 3",
   "language": "python",
   "name": "python3"
  },
  "language_info": {
   "codemirror_mode": {
    "name": "ipython",
    "version": 3
   },
   "file_extension": ".py",
   "mimetype": "text/x-python",
   "name": "python",
   "nbconvert_exporter": "python",
   "pygments_lexer": "ipython3",
   "version": "3.8.8"
  }
 },
 "nbformat": 4,
 "nbformat_minor": 4
}
