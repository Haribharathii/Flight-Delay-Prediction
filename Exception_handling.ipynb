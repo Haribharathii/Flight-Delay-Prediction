{
 "cells": [
  {
   "cell_type": "code",
   "execution_count": 13,
   "id": "ccb3ae1e-c55e-4ef6-adf0-b46fcdd9b252",
   "metadata": {},
   "outputs": [],
   "source": [
    "dictionary = {'ant': 2, 'dog': 12, 'duck': 20, 'hen': 11, 'other': 99}\n",
    "keys = ['ant', 'cat', 'duck', 'hen', 'lion', 'zebra']"
   ]
  },
  {
   "cell_type": "code",
   "execution_count": 26,
   "id": "feef2a7c-65fc-4391-bb5b-84f609443f6c",
   "metadata": {},
   "outputs": [],
   "source": [
    "def dictionary_lookup(dictionary, keys):\n",
    "    \"\"\"To associate with exception handling\"\"\"\n",
    "    base_name=dictionary.keys()\n",
    "    for name in keys:\n",
    "\n",
    "        try:\n",
    "            word=dictionary.get(name,'99')\n",
    "        except KeyError:\n",
    "            word=dictionary['other']\n",
    "        else:\n",
    "            print(f'{name}:{word}')\n",
    "            "
   ]
  },
  {
   "cell_type": "code",
   "execution_count": 27,
   "id": "0d70137c-8b5b-472a-8dcb-02a56ba54d14",
   "metadata": {},
   "outputs": [
    {
     "name": "stdout",
     "output_type": "stream",
     "text": [
      "ant:2\n",
      "cat:99\n",
      "duck:20\n",
      "hen:11\n",
      "lion:99\n",
      "zebra:99\n"
     ]
    }
   ],
   "source": [
    "dictionary_lookup(dictionary, keys)"
   ]
  },
  {
   "cell_type": "code",
   "execution_count": null,
   "id": "8707fe08-779e-4d0b-b852-cfee6b7165ef",
   "metadata": {},
   "outputs": [],
   "source": []
  }
 ],
 "metadata": {
  "kernelspec": {
   "display_name": "Python 3",
   "language": "python",
   "name": "python3"
  },
  "language_info": {
   "codemirror_mode": {
    "name": "ipython",
    "version": 3
   },
   "file_extension": ".py",
   "mimetype": "text/x-python",
   "name": "python",
   "nbconvert_exporter": "python",
   "pygments_lexer": "ipython3",
   "version": "3.8.8"
  }
 },
 "nbformat": 4,
 "nbformat_minor": 5
}
