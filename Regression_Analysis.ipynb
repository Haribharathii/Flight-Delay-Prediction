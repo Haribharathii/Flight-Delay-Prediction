{
  "nbformat": 4,
  "nbformat_minor": 0,
  "metadata": {
    "colab": {
      "name": "Regression Analysis.ipynb",
      "provenance": []
    },
    "kernelspec": {
      "name": "python3",
      "display_name": "Python 3"
    },
    "language_info": {
      "name": "python"
    }
  },
  "cells": [
    {
      "cell_type": "code",
      "execution_count": 22,
      "metadata": {
        "id": "1wc_V9jWTTpz"
      },
      "outputs": [],
      "source": [
        "from sklearn.metrics import mean_squared_error\n",
        "from sklearn.metrics import mean_absolute_error\n",
        "from sklearn.metrics import r2_score\n",
        "import pandas as pd\n",
        "from sklearn.model_selection import train_test_split\n",
        "import numpy as np\n",
        "from sklearn.linear_model import LinearRegression"
      ]
    },
    {
      "cell_type": "code",
      "source": [
        "file1='/content/drive/MyDrive/Under300.csv'\n",
        "file2='/content/drive/MyDrive/Under600.csv'\n",
        "file3='/content/drive/MyDrive/Under1000.csv'\n",
        "file4='/content/drive/MyDrive/Under1500.csv'\n",
        "file5='/content/drive/MyDrive/Over1500.csv'"
      ],
      "metadata": {
        "id": "HUMInUjWTfDs"
      },
      "execution_count": 2,
      "outputs": []
    },
    {
      "cell_type": "code",
      "source": [
        "dfu300=pd.read_csv(file1)"
      ],
      "metadata": {
        "id": "VmhVNlGJTwTR"
      },
      "execution_count": 3,
      "outputs": []
    },
    {
      "cell_type": "code",
      "source": [
        "dfu600=pd.read_csv(file2)"
      ],
      "metadata": {
        "id": "ats_JT18T2K2"
      },
      "execution_count": 4,
      "outputs": []
    },
    {
      "cell_type": "code",
      "source": [
        "dfu1000=pd.read_csv(file3)"
      ],
      "metadata": {
        "id": "6IsjGGz5T5oS"
      },
      "execution_count": 5,
      "outputs": []
    },
    {
      "cell_type": "code",
      "source": [
        "dfu1500=pd.read_csv(file4)"
      ],
      "metadata": {
        "id": "I_t5JxDDT74a"
      },
      "execution_count": 6,
      "outputs": []
    },
    {
      "cell_type": "code",
      "source": [
        "dfoo1500=pd.read_csv(file5)"
      ],
      "metadata": {
        "id": "-ZRWBUKxT94H"
      },
      "execution_count": 7,
      "outputs": []
    },
    {
      "cell_type": "code",
      "source": [
        "X1=dfu300.drop([\"ArrDelayMinutes\",\n",
        "                \"ArrTime\",\n",
        "                \"ArrDel15\",\n",
        "             \"DepDel15\",\n",
        "                 \"Unnamed: 0_x\",\n",
        "                 \"Unnamed: 0_y\",\n",
        "                 \"Unnamed: 0.1\",\n",
        "                \"Origin\",\n",
        "                \"Dest\",\n",
        "                \"airport_x\",\n",
        "                \"airport_y\",\n",
        "                \"FlightDate\",\n",
        "                \"date_y\",\n",
        "                \"date_x\",\n",
        "                \"time_x\",\n",
        "                \"time_y\",\n",
        "                \"windspeedKmph_y\",\n",
        "                \"winddirDegree_y\",\n",
        "                \"weatherCode_y\",\n",
        "                \"precipMM_y\",\n",
        "                \"visibility_y\",\n",
        "                \"pressure_y\",\n",
        "                \"cloudcover_y\",\n",
        "                \"DewPointF_y\",\n",
        "                \"WindGustKmph_y\",\n",
        "                \"tempF_y\",\n",
        "               \"WindChillF_y\",\n",
        "               \"humidity_y\",\n",
        "           \"Unnamed: 0\",'Unnamed: 0.1.1'],axis=1)"
      ],
      "metadata": {
        "id": "o_cx47dVUHHW"
      },
      "execution_count": 9,
      "outputs": []
    },
    {
      "cell_type": "code",
      "source": [
        "Y1=dfu300.ArrDelayMinutes"
      ],
      "metadata": {
        "id": "1UW-FNwXUJ8e"
      },
      "execution_count": 10,
      "outputs": []
    },
    {
      "cell_type": "code",
      "source": [
        "X2=dfu600.drop([\"ArrDelayMinutes\",\n",
        "                \"ArrTime\",\n",
        "                \"ArrDel15\",\n",
        "             \"DepDel15\",\n",
        "                 \"Unnamed: 0_x\",\n",
        "                 \"Unnamed: 0_y\",\n",
        "                 \"Unnamed: 0.1\",\n",
        "                \"Origin\",\n",
        "                \"Dest\",\n",
        "                \"airport_x\",\n",
        "                \"airport_y\",\n",
        "                \"FlightDate\",\n",
        "                \"date_y\",\n",
        "                \"date_x\",\n",
        "                \"time_x\",\n",
        "                \"time_y\",\n",
        "                \"windspeedKmph_y\",\n",
        "                \"winddirDegree_y\",\n",
        "                \"weatherCode_y\",\n",
        "                \"precipMM_y\",\n",
        "                \"visibility_y\",\n",
        "                \"pressure_y\",\n",
        "                \"cloudcover_y\",\n",
        "                \"DewPointF_y\",\n",
        "                \"WindGustKmph_y\",\n",
        "                \"tempF_y\",\n",
        "               \"WindChillF_y\",\n",
        "               \"humidity_y\",\n",
        "           \"Unnamed: 0\",'Unnamed: 0.1.1'],axis=1)"
      ],
      "metadata": {
        "id": "iAktq5-dU9Tk"
      },
      "execution_count": 11,
      "outputs": []
    },
    {
      "cell_type": "code",
      "source": [
        "Y2=dfu600.ArrDelayMinutes"
      ],
      "metadata": {
        "id": "LZq1XOqfVAKT"
      },
      "execution_count": 12,
      "outputs": []
    },
    {
      "cell_type": "code",
      "source": [
        "X3=dfu1000.drop([\"ArrDelayMinutes\",\n",
        "                \"ArrTime\",\n",
        "                \"ArrDel15\",\n",
        "             \"DepDel15\",\n",
        "                 \"Unnamed: 0_x\",\n",
        "                 \"Unnamed: 0_y\",\n",
        "                 \"Unnamed: 0.1\",\n",
        "                \"Origin\",\n",
        "                \"Dest\",\n",
        "                \"airport_x\",\n",
        "                \"airport_y\",\n",
        "                \"FlightDate\",\n",
        "                \"date_y\",\n",
        "                \"date_x\",\n",
        "                \"time_x\",\n",
        "                \"time_y\",\n",
        "                \"windspeedKmph_y\",\n",
        "                \"winddirDegree_y\",\n",
        "                \"weatherCode_y\",\n",
        "                \"precipMM_y\",\n",
        "                \"visibility_y\",\n",
        "                \"pressure_y\",\n",
        "                \"cloudcover_y\",\n",
        "                \"DewPointF_y\",\n",
        "                \"WindGustKmph_y\",\n",
        "                \"tempF_y\",\n",
        "               \"WindChillF_y\",\n",
        "               \"humidity_y\",\n",
        "           \"Unnamed: 0\",'Unnamed: 0.1.1'],axis=1)"
      ],
      "metadata": {
        "id": "TrB_8h_2VDgr"
      },
      "execution_count": 13,
      "outputs": []
    },
    {
      "cell_type": "code",
      "source": [
        "Y3=dfu1000.ArrDelayMinutes"
      ],
      "metadata": {
        "id": "4A9hiHCTVHzz"
      },
      "execution_count": 14,
      "outputs": []
    },
    {
      "cell_type": "code",
      "source": [
        "X4=dfu1500.drop([\"ArrDelayMinutes\",\n",
        "                \"ArrTime\",\n",
        "                \"ArrDel15\",\n",
        "             \"DepDel15\",\n",
        "                 \"Unnamed: 0_x\",\n",
        "                 \"Unnamed: 0_y\",\n",
        "                 \"Unnamed: 0.1\",\n",
        "                \"Origin\",\n",
        "                \"Dest\",\n",
        "                \"airport_x\",\n",
        "                \"airport_y\",\n",
        "                \"FlightDate\",\n",
        "                \"date_y\",\n",
        "                \"date_x\",\n",
        "                \"time_x\",\n",
        "                \"time_y\",\n",
        "                \"windspeedKmph_y\",\n",
        "                \"winddirDegree_y\",\n",
        "                \"weatherCode_y\",\n",
        "                \"precipMM_y\",\n",
        "                \"visibility_y\",\n",
        "                \"pressure_y\",\n",
        "                \"cloudcover_y\",\n",
        "                \"DewPointF_y\",\n",
        "                \"WindGustKmph_y\",\n",
        "                \"tempF_y\",\n",
        "               \"WindChillF_y\",\n",
        "               \"humidity_y\",\n",
        "           \"Unnamed: 0\",'Unnamed: 0.1.1'],axis=1)"
      ],
      "metadata": {
        "id": "oTp_IZuvVKvR"
      },
      "execution_count": 15,
      "outputs": []
    },
    {
      "cell_type": "code",
      "source": [
        "Y4=dfu1500.ArrDelayMinutes"
      ],
      "metadata": {
        "id": "e_AXiDxZVOFp"
      },
      "execution_count": 16,
      "outputs": []
    },
    {
      "cell_type": "code",
      "source": [
        "X5=dfoo1500.drop([\"ArrDelayMinutes\",\n",
        "                \"ArrTime\",\n",
        "                \"ArrDel15\",\n",
        "             \"DepDel15\",\n",
        "                 \"Unnamed: 0_x\",\n",
        "                 \"Unnamed: 0_y\",\n",
        "                 \"Unnamed: 0.1\",\n",
        "                \"Origin\",\n",
        "                \"Dest\",\n",
        "                \"airport_x\",\n",
        "                \"airport_y\",\n",
        "                \"FlightDate\",\n",
        "                \"date_y\",\n",
        "                \"date_x\",\n",
        "                \"time_x\",\n",
        "                \"time_y\",\n",
        "                \"windspeedKmph_y\",\n",
        "                \"winddirDegree_y\",\n",
        "                \"weatherCode_y\",\n",
        "                \"precipMM_y\",\n",
        "                \"visibility_y\",\n",
        "                \"pressure_y\",\n",
        "                \"cloudcover_y\",\n",
        "                \"DewPointF_y\",\n",
        "                \"WindGustKmph_y\",\n",
        "                \"tempF_y\",\n",
        "               \"WindChillF_y\",\n",
        "               \"humidity_y\",\n",
        "           \"Unnamed: 0\",'Unnamed: 0.1.1'],axis=1)"
      ],
      "metadata": {
        "id": "8eC3rhkiVTGP"
      },
      "execution_count": 17,
      "outputs": []
    },
    {
      "cell_type": "code",
      "source": [
        "Y5=dfoo1500.ArrDelayMinutes"
      ],
      "metadata": {
        "id": "y5Vln_GTVYb3"
      },
      "execution_count": 18,
      "outputs": []
    },
    {
      "cell_type": "code",
      "source": [
        "x_train1, x_test1, y_train1, y_test1 = train_test_split(X1, Y1, test_size = 0.25)\n",
        "x_train2, x_test2, y_train2, y_test2 = train_test_split(X2, Y2, test_size = 0.25)\n",
        "x_train3, x_test3, y_train3, y_test3 = train_test_split(X3, Y3, test_size = 0.25)\n",
        "x_train4, x_test4, y_train4, y_test4 = train_test_split(X4, Y4, test_size = 0.25)\n",
        "x_train5, x_test5, y_train5, y_test5 = train_test_split(X5, Y5, test_size = 0.25)"
      ],
      "metadata": {
        "id": "wb-1hzgIVeAB"
      },
      "execution_count": 19,
      "outputs": []
    },
    {
      "cell_type": "code",
      "source": [
        "lru300=LinearRegression().fit(x_train1,y_train1)"
      ],
      "metadata": {
        "id": "sORYuOfaXUeb"
      },
      "execution_count": 20,
      "outputs": []
    },
    {
      "cell_type": "code",
      "source": [
        "y_pred1=lru300.predict(x_test1)"
      ],
      "metadata": {
        "id": "MWXbqfPkXo7h"
      },
      "execution_count": 21,
      "outputs": []
    },
    {
      "cell_type": "code",
      "source": [
        "print(\"15-300\")\n",
        "print(\"mean_squared_error   \" , np.sqrt(mean_squared_error(y_test1, y_pred1)))\n",
        "print(\"mean_absolute_error  \" , mean_absolute_error(y_test1, y_pred1))\n",
        "print(\"R2score    \" , r2_score(y_test1,y_pred1))"
      ],
      "metadata": {
        "colab": {
          "base_uri": "https://localhost:8080/"
        },
        "id": "OGO1eYzyXyGc",
        "outputId": "7525b6cf-f954-46f0-8968-b8640a531acc"
      },
      "execution_count": 24,
      "outputs": [
        {
          "output_type": "stream",
          "name": "stdout",
          "text": [
            "15-300\n",
            "mean_squared_error    18.933749017914824\n",
            "mean_absolute_error   13.843136704166788\n",
            "R2score     0.8560241354841984\n"
          ]
        }
      ]
    },
    {
      "cell_type": "code",
      "source": [
        "lru600=LinearRegression().fit(x_train2,y_train2)"
      ],
      "metadata": {
        "id": "xpHVBZ_gYCHB"
      },
      "execution_count": 25,
      "outputs": []
    },
    {
      "cell_type": "code",
      "source": [
        "y_pred2=lru600.predict(x_test2)"
      ],
      "metadata": {
        "id": "roFSODjWYKGe"
      },
      "execution_count": 28,
      "outputs": []
    },
    {
      "cell_type": "code",
      "source": [
        "print(\"300-600\")\n",
        "print(\"mean_squared_error   \" , np.sqrt(mean_squared_error(y_test2, y_pred2)))\n",
        "print(\"mean_absolute_error  \" , mean_absolute_error(y_test2, y_pred2))\n",
        "print(\"R2score    \" , r2_score(y_test2,y_pred2))"
      ],
      "metadata": {
        "colab": {
          "base_uri": "https://localhost:8080/"
        },
        "id": "OcozK3ZyYMdM",
        "outputId": "20dfd406-009e-4a41-fe02-86c6bbb9c67b"
      },
      "execution_count": 30,
      "outputs": [
        {
          "output_type": "stream",
          "name": "stdout",
          "text": [
            "300-600\n",
            "mean_squared_error    30.032531018476497\n",
            "mean_absolute_error   20.74200194294458\n",
            "R2score     0.8289760589716217\n"
          ]
        }
      ]
    },
    {
      "cell_type": "code",
      "source": [
        "lru1000=LinearRegression().fit(x_train3,y_train3)"
      ],
      "metadata": {
        "id": "iNA5fT7MYTLN"
      },
      "execution_count": 31,
      "outputs": []
    },
    {
      "cell_type": "code",
      "source": [
        "y_pred3=lru1000.predict(x_test3)"
      ],
      "metadata": {
        "id": "GGI51LS0Yav8"
      },
      "execution_count": 32,
      "outputs": []
    },
    {
      "cell_type": "code",
      "source": [
        "print(\"600-1000\")\n",
        "print(\"mean_squared_error   \" , np.sqrt(mean_squared_error(y_test3, y_pred3)))\n",
        "print(\"mean_absolute_error  \" , mean_absolute_error(y_test3, y_pred3))\n",
        "print(\"R2score    \" , r2_score(y_test3,y_pred3))"
      ],
      "metadata": {
        "colab": {
          "base_uri": "https://localhost:8080/"
        },
        "id": "FyQJz5nAYdAS",
        "outputId": "4453ca51-e42c-4825-88c2-a82263a0cacc"
      },
      "execution_count": 33,
      "outputs": [
        {
          "output_type": "stream",
          "name": "stdout",
          "text": [
            "600-1000\n",
            "mean_squared_error    19.939430727470345\n",
            "mean_absolute_error   15.73736414607817\n",
            "R2score     0.9685274180234779\n"
          ]
        }
      ]
    },
    {
      "cell_type": "code",
      "source": [
        "lru1500=LinearRegression().fit(x_train4,y_train4)"
      ],
      "metadata": {
        "id": "6Q36yYUiYiw1"
      },
      "execution_count": 34,
      "outputs": []
    },
    {
      "cell_type": "code",
      "source": [
        "y_pred4=lru1500.predict(x_test4)"
      ],
      "metadata": {
        "id": "zF3ob9csYn9O"
      },
      "execution_count": 35,
      "outputs": []
    },
    {
      "cell_type": "code",
      "source": [
        "print(\"1000-1500\")\n",
        "print(\"mean_squared_error   \" , np.sqrt(mean_squared_error(y_test4, y_pred4)))\n",
        "print(\"mean_absolute_error  \" , mean_absolute_error(y_test4, y_pred4))\n",
        "print(\"R2score    \" , r2_score(y_test4,y_pred4))"
      ],
      "metadata": {
        "colab": {
          "base_uri": "https://localhost:8080/"
        },
        "id": "O0OHM2y4YrJc",
        "outputId": "86c3a410-1300-4ea2-a0a1-acf8dd750b31"
      },
      "execution_count": 36,
      "outputs": [
        {
          "output_type": "stream",
          "name": "stdout",
          "text": [
            "1000-1500\n",
            "mean_squared_error    23.925797775947974\n",
            "mean_absolute_error   18.759284760103917\n",
            "R2score     0.961447194451869\n"
          ]
        }
      ]
    },
    {
      "cell_type": "code",
      "source": [
        "lroo1500=LinearRegression().fit(x_train5,y_train5)"
      ],
      "metadata": {
        "id": "XI7c2hVGYyaH"
      },
      "execution_count": 37,
      "outputs": []
    },
    {
      "cell_type": "code",
      "source": [
        "y_pred5=lroo1500.predict(x_test5)"
      ],
      "metadata": {
        "id": "6uLivyZiY3U_"
      },
      "execution_count": 38,
      "outputs": []
    },
    {
      "cell_type": "code",
      "source": [
        "print(\"Over 1500\")\n",
        "print(\"mean_squared_error   \" , np.sqrt(mean_squared_error(y_test5, y_pred5)))\n",
        "print(\"mean_absolute_error  \" , mean_absolute_error(y_test5, y_pred5))\n",
        "print(\"R2score    \" , r2_score(y_test5,y_pred5))"
      ],
      "metadata": {
        "colab": {
          "base_uri": "https://localhost:8080/"
        },
        "id": "9o5utN71Y7hj",
        "outputId": "0be50988-6222-4ef7-8a99-e356ab2c493f"
      },
      "execution_count": 39,
      "outputs": [
        {
          "output_type": "stream",
          "name": "stdout",
          "text": [
            "Over 1500\n",
            "mean_squared_error    33.25570751837032\n",
            "mean_absolute_error   26.8739498864702\n",
            "R2score     0.3661819445411021\n"
          ]
        }
      ]
    },
    {
      "cell_type": "code",
      "source": [
        ""
      ],
      "metadata": {
        "id": "-_YGZGfLZB6L"
      },
      "execution_count": null,
      "outputs": []
    }
  ]
}